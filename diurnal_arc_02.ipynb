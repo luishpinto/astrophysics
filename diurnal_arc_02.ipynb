{
  "nbformat": 4,
  "nbformat_minor": 0,
  "metadata": {
    "colab": {
      "name": "diurnal-arc-02.ipynb",
      "provenance": [],
      "authorship_tag": "ABX9TyMdxRnc4xTFfA08xMMXLZp8",
      "include_colab_link": true
    },
    "kernelspec": {
      "name": "python3",
      "display_name": "Python 3"
    },
    "language_info": {
      "name": "python"
    }
  },
  "cells": [
    {
      "cell_type": "markdown",
      "metadata": {
        "id": "view-in-github",
        "colab_type": "text"
      },
      "source": [
        "<a href=\"https://colab.research.google.com/github/luishpinto/astrophysics/blob/main/diurnal_arc_02.ipynb\" target=\"_parent\"><img src=\"https://colab.research.google.com/assets/colab-badge.svg\" alt=\"Open In Colab\"/></a>"
      ]
    },
    {
      "cell_type": "code",
      "execution_count": 36,
      "metadata": {
        "id": "6DreRNsu8m1T"
      },
      "outputs": [],
      "source": [
        "import numpy as np\n",
        "from astropy.coordinates import EarthLocation\n",
        "import astropy.units as u\n",
        "\n",
        "import matplotlib.pyplot as plt"
      ]
    },
    {
      "cell_type": "code",
      "source": [
        "obs = EarthLocation(lat = -26.3044 * u.deg, \\\n",
        "                    lon = -48.8464 * u.deg)\n",
        "\n",
        "phi = obs.lat"
      ],
      "metadata": {
        "id": "KjpO1m7W9yIs"
      },
      "execution_count": 37,
      "outputs": []
    },
    {
      "cell_type": "code",
      "source": [
        "N = np.arange(365)\n",
        "omega = 2 * np.pi / 365.24\n",
        "ecl = np.radians(23.44)"
      ],
      "metadata": {
        "id": "Xw9jt4Ab856_"
      },
      "execution_count": 38,
      "outputs": []
    },
    {
      "cell_type": "code",
      "source": [
        "delta = -np.arcsin(np.sin(ecl) * np.cos(omega * (N + 10)))"
      ],
      "metadata": {
        "id": "l3aYLpPf9JV7"
      },
      "execution_count": 39,
      "outputs": []
    },
    {
      "cell_type": "code",
      "source": [
        "h = np.arccos(-np.tan(delta) * np.tan(phi.radian))\n",
        "T = ((np.degrees(2.0 * h) / 360.0) * u.sday).to(u.h)"
      ],
      "metadata": {
        "id": "J0DOU6Z79bM1"
      },
      "execution_count": 40,
      "outputs": []
    },
    {
      "cell_type": "code",
      "source": [
        "fig = plt.figure(figsize = (12.0, 3.0))\n",
        "plt.plot(N, T)\n",
        "plt.show()"
      ],
      "metadata": {
        "colab": {
          "base_uri": "https://localhost:8080/",
          "height": 211
        },
        "id": "MbDVdcdp_BXX",
        "outputId": "4642a124-96ad-46c0-a6c7-fd5c23ba345d"
      },
      "execution_count": 43,
      "outputs": [
        {
          "output_type": "display_data",
          "data": {
            "image/png": "[encoded data removed]",
            "text/plain": [
              "<Figure size 864x216 with 1 Axes>"
            ]
          },
          "metadata": {
            "needs_background": "light"
          }
        }
      ]
    }
  ]
}