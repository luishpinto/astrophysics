{
  "nbformat": 4,
  "nbformat_minor": 0,
  "metadata": {
    "colab": {
      "name": "planetary-motion.ipynb",
      "provenance": [],
      "authorship_tag": "ABX9TyOfLuSsf1tBIDez5ze5ZAsc",
      "include_colab_link": true
    },
    "kernelspec": {
      "name": "python3",
      "display_name": "Python 3"
    },
    "language_info": {
      "name": "python"
    }
  },
  "cells": [
    {
      "cell_type": "markdown",
      "metadata": {
        "id": "view-in-github",
        "colab_type": "text"
      },
      "source": [
        "<a href=\"https://colab.research.google.com/github/luishpinto/astrophysics/blob/main/planetary_motion.ipynb\" target=\"_parent\"><img src=\"https://colab.research.google.com/assets/colab-badge.svg\" alt=\"Open In Colab\"/></a>"
      ]
    },
    {
      "cell_type": "code",
      "execution_count": 1,
      "metadata": {
        "id": "JzjSt3o8cbZx"
      },
      "outputs": [],
      "source": [
        "import numpy as np\n",
        "from scipy.constants import year, hour, au, G\n",
        "from astropy.constants import M_sun\n",
        "\n",
        "import matplotlib.pyplot as plt"
      ]
    },
    {
      "cell_type": "code",
      "source": [
        "M = M_sun.value\n",
        "\n",
        "# orbital parameters of planets\n",
        "# see https://nssdc.gsfc.nasa.gov/planetary/factsheet/\n",
        "# mass in kg\n",
        "m = 1e24 * np.array([0.33011, 4.8675, 5.9723, 0.64171,\n",
        "                     1898.19, 568.34, 86.813, 102.413])\n",
        "\n",
        "# semi-major axis in m\n",
        "a = 1e9 * np.array([57.9, 108.21, 149.60, 227.92,\n",
        "                    778.57, 1433.53, 2872.46, 4495.06])"
      ],
      "metadata": {
        "id": "njKtHAWScws2"
      },
      "execution_count": 2,
      "outputs": []
    },
    {
      "cell_type": "code",
      "source": [
        "# use Kepler's 3rd law to calculate the period in s\n",
        "T_test_mass = 2.0 * np.pi * (G * M)**(-1/2) * a**(3/2)\n",
        "T_two_body = 2.0 * np.pi * (G * (M + m))**(-1/2) * a**(3/2)"
      ],
      "metadata": {
        "id": "gCYjthM8d-Gf"
      },
      "execution_count": 3,
      "outputs": []
    },
    {
      "cell_type": "code",
      "source": [
        "print('T [yr]\\t\\tdev[hr]\\t\\tdev rel.')\n",
        "for i,j in zip(T_test_mass, T_two_body):\n",
        "  dev = i - j\n",
        "  if (dev > hour):\n",
        "    print('{:6.2f}\\t\\t{:<7.1f}\\t\\t{:.1e}'.format(j/year, dev/hour, dev/i))\n",
        "  else:\n",
        "    print('{:6.2f}\\t\\t{:7.4f}\\t\\t{:.1e}'.format(j/year, dev/hour, dev/i))"
      ],
      "metadata": {
        "colab": {
          "base_uri": "https://localhost:8080/"
        },
        "id": "qT25kRHxeT0l",
        "outputId": "5ea5b171-ca04-4282-9aeb-1f14116d5c0d"
      },
      "execution_count": 4,
      "outputs": [
        {
          "output_type": "stream",
          "name": "stdout",
          "text": [
            "T [yr]\t\tdev[hr]\t\tdev rel.\n",
            "  0.24\t\t 0.0002\t\t8.3e-08\n",
            "  0.62\t\t 0.0066\t\t1.2e-06\n",
            "  1.00\t\t 0.0132\t\t1.5e-06\n",
            "  1.88\t\t 0.0027\t\t1.6e-07\n",
            " 11.88\t\t49.6   \t\t4.8e-04\n",
            " 29.68\t\t37.2   \t\t1.4e-04\n",
            " 84.20\t\t16.1   \t\t2.2e-05\n",
            "164.82\t\t37.2   \t\t2.6e-05\n"
          ]
        }
      ]
    },
    {
      "cell_type": "code",
      "source": [
        "fig = plt.figure(figsize = (6.0, 6.0))\n",
        "plt.loglog(a/au, T_test_mass/year, '--', color = 'orange', label = 'test mass')\n",
        "plt.scatter(a/au, T_two_body/year, color = 'white', edgecolor = 'black', s = 60)\n",
        "plt.xlabel('Semi-major axis [AU]')\n",
        "plt.ylabel('Orbital period [yr]')\n",
        "plt.tight_layout()\n",
        "plt.show()"
      ],
      "metadata": {
        "colab": {
          "base_uri": "https://localhost:8080/",
          "height": 441
        },
        "id": "4RctfKUBzJ0C",
        "outputId": "5f28977e-84aa-467e-f7f7-bf7efa3221d8"
      },
      "execution_count": 5,
      "outputs": [
        {
          "output_type": "display_data",
          "data": {
            "image/png": "[encoded data removed]",
            "text/plain": [
              "<Figure size 432x432 with 1 Axes>"
            ]
          },
          "metadata": {
            "needs_background": "light"
          }
        }
      ]
    }
  ]
}