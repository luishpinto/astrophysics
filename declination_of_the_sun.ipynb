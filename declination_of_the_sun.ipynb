{
  "nbformat": 4,
  "nbformat_minor": 0,
  "metadata": {
    "colab": {
      "name": "declination-of-the-sun.ipynb",
      "provenance": [],
      "authorship_tag": "ABX9TyNKBcfpZwdxubaR6eESuf44",
      "include_colab_link": true
    },
    "kernelspec": {
      "name": "python3",
      "display_name": "Python 3"
    },
    "language_info": {
      "name": "python"
    }
  },
  "cells": [
    {
      "cell_type": "markdown",
      "metadata": {
        "id": "view-in-github",
        "colab_type": "text"
      },
      "source": [
        "<a href=\"https://colab.research.google.com/github/luishpinto/astrophysics/blob/main/declination_of_the_sun.ipynb\" target=\"_parent\"><img src=\"https://colab.research.google.com/assets/colab-badge.svg\" alt=\"Open In Colab\"/></a>"
      ]
    },
    {
      "cell_type": "code",
      "execution_count": 4,
      "metadata": {
        "id": "3U-EyGekT93i"
      },
      "outputs": [],
      "source": [
        "from math import *"
      ]
    },
    {
      "cell_type": "code",
      "source": [
        "N = 171   # day of the 1st solstice\n",
        "omega = 2.0 * pi / 365.24    # angular velocity in rad/day\n",
        "ecl = radians(23.44)         # obliquity of the ecpliptic"
      ],
      "metadata": {
        "id": "rnya4P01UmJt"
      },
      "execution_count": 5,
      "outputs": []
    },
    {
      "cell_type": "markdown",
      "source": [
        "Approximate expression for the calculation of the declination of the Sun"
      ],
      "metadata": {
        "id": "4aOM1L0rW0Jb"
      }
    },
    {
      "cell_type": "code",
      "source": [
        "delta = - asin(sin(ecl * cos(omega * (N + 10))))\n",
        "print('Declination of the sun at day {:d} = {:.2f} deg'.format(N,degrees(delta)))"
      ],
      "metadata": {
        "colab": {
          "base_uri": "https://localhost:8080/"
        },
        "id": "Q6w6YpzFVOBo",
        "outputId": "1f17a80c-f4d8-43de-8000-9aa9c09f8b42"
      },
      "execution_count": 6,
      "outputs": [
        {
          "output_type": "stream",
          "name": "stdout",
          "text": [
            "Declination of the sun at day 171 = 23.43 deg\n"
          ]
        }
      ]
    }
  ]
}