{
  "nbformat": 4,
  "nbformat_minor": 0,
  "metadata": {
    "colab": {
      "name": "declination-of-the-sun.ipynb",
      "provenance": [],
      "authorship_tag": "ABX9TyMORae50I0EVAMpovnxGX5G",
      "include_colab_link": true
    },
    "kernelspec": {
      "name": "python3",
      "display_name": "Python 3"
    },
    "language_info": {
      "name": "python"
    }
  },
  "cells": [
    {
      "cell_type": "markdown",
      "metadata": {
        "id": "view-in-github",
        "colab_type": "text"
      },
      "source": [
        "<a href=\"https://colab.research.google.com/github/luishpinto/astrophysics/blob/main/declination_of_the_sun.ipynb\" target=\"_parent\"><img src=\"https://colab.research.google.com/assets/colab-badge.svg\" alt=\"Open In Colab\"/></a>"
      ]
    },
    {
      "cell_type": "markdown",
      "source": [
        "# Declination of the Sun\n",
        "\n",
        "While the declination of stars is constant, the position of the Sun changes in the equatorial system over the perior of a year. This is a consequence of the inclination of Earth's rotation axis with respect to the direction perpendicular to the ecliptic, which is equal to $ \\epsilon_{0} = 23.44^{\\circ} $. The angle $ \\epsilon_{0} $ is called obliquity of the ecliptic. The annual variation of the declination of the Sun is approximately given by:\n",
        "\n",
        "$ \\delta_{\\odot} = - \\arcsin \\left[ \\sin \\epsilon_{0} \\, \\cos \\left( \\dfrac{360^{\\circ}}{365.24^{\\circ}} \\, \\left( N + 10 \\right) \\right) \\right] $\n",
        "\n",
        "where $ N $ is the difference in days starting from 1st January."
      ],
      "metadata": {
        "id": "zFXKMHNXjmam"
      }
    },
    {
      "cell_type": "code",
      "execution_count": 1,
      "metadata": {
        "id": "3U-EyGekT93i"
      },
      "outputs": [],
      "source": [
        "from math import *"
      ]
    },
    {
      "cell_type": "code",
      "source": [
        "N = 171   # day of the 1st solstice\n",
        "omega = 2.0 * pi / 365.24    # angular velocity in rad/day\n",
        "ecl = radians(23.44)         # obliquity of the ecpliptic"
      ],
      "metadata": {
        "id": "rnya4P01UmJt"
      },
      "execution_count": 2,
      "outputs": []
    },
    {
      "cell_type": "markdown",
      "source": [
        "Approximate expression for the calculation of the declination of the Sun at the day 171 (the day of the 1st solstice)."
      ],
      "metadata": {
        "id": "4aOM1L0rW0Jb"
      }
    },
    {
      "cell_type": "code",
      "source": [
        "delta = - asin(sin(ecl * cos(omega * (N + 10))))\n",
        "print('Declination of the sun at day {:d} = {:.2f} deg'.format(N,degrees(delta)))"
      ],
      "metadata": {
        "colab": {
          "base_uri": "https://localhost:8080/"
        },
        "id": "Q6w6YpzFVOBo",
        "outputId": "6eb5dc45-57f8-4ff8-f13a-3e198206cf8d"
      },
      "execution_count": 3,
      "outputs": [
        {
          "output_type": "stream",
          "name": "stdout",
          "text": [
            "Declination of the sun at day 171 = 23.43 deg\n"
          ]
        }
      ]
    }
  ]
}