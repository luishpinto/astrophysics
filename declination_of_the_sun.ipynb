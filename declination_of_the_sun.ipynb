{
  "nbformat": 4,
  "nbformat_minor": 0,
  "metadata": {
    "colab": {
      "name": "declination-of-the-sun.ipynb",
      "provenance": [],
      "authorship_tag": "ABX9TyOTpNaZQiciJ4vKfdF1A2VM",
      "include_colab_link": true
    },
    "kernelspec": {
      "name": "python3",
      "display_name": "Python 3"
    },
    "language_info": {
      "name": "python"
    }
  },
  "cells": [
    {
      "cell_type": "markdown",
      "metadata": {
        "id": "view-in-github",
        "colab_type": "text"
      },
      "source": [
        "<a href=\"https://colab.research.google.com/github/luishpinto/astrophysics/blob/main/declination_of_the_sun.ipynb\" target=\"_parent\"><img src=\"https://colab.research.google.com/assets/colab-badge.svg\" alt=\"Open In Colab\"/></a>"
      ]
    },
    {
      "cell_type": "markdown",
      "source": [
        "# Declination of the Sun\n",
        "\n",
        "While the declination of stars is constant, the position of the Sun changes in the equatorial system over the perior of a year. This is a consequence of the inclination of Earth's rotation axis with respect to the direction perpendicular to the ecliptic, which is equal to $ \\epsilon_{0} = 23.44^{\\circ} $. The angle $ \\epsilon_{0} $ is called obliquity of the ecliptic. The annual variation of the declination of the Sun is approximately given by:\n",
        "\n",
        "$ \\delta_{\\odot} = - \\arcsin \\left[ \\sin \\epsilon_{0} \\, \\cos \\left( \\dfrac{360^{\\circ}}{365.24^{\\circ}} \\, \\left( N + 10 \\right) \\right) \\right] $\n",
        "\n",
        "where $ N $ is the difference in days starting from 1st January."
      ],
      "metadata": {
        "id": "zFXKMHNXjmam"
      }
    },
    {
      "cell_type": "code",
      "execution_count": 1,
      "metadata": {
        "id": "3U-EyGekT93i"
      },
      "outputs": [],
      "source": [
        "import numpy as np\n",
        "from math import *"
      ]
    },
    {
      "cell_type": "code",
      "source": [
        "N = np.array([79, 171, 265, 355]) # equinox and solstices in 2020\n",
        "\n",
        "omega = 2.0 * pi / 365.24    # angular velocity in rad/day\n",
        "ecl = radians(23.44)         # obliquity of the ecpliptic"
      ],
      "metadata": {
        "id": "rnya4P01UmJt"
      },
      "execution_count": 2,
      "outputs": []
    },
    {
      "cell_type": "markdown",
      "source": [
        "Approximate expression for the calculation of the declination of the Sun at the day N."
      ],
      "metadata": {
        "id": "4aOM1L0rW0Jb"
      }
    },
    {
      "cell_type": "code",
      "source": [
        "delta = - np.arcsin(np.sin(ecl * np.cos(omega * (N + 10))))"
      ],
      "metadata": {
        "id": "OTVUfSHio2PD"
      },
      "execution_count": 3,
      "outputs": []
    },
    {
      "cell_type": "code",
      "source": [
        "print('Declination of the sun:\\n')\n",
        "print('i\\tday\\tdelta [deg]')\n",
        "for i, j in enumerate(delta):\n",
        "  print('{0:d}\\t{1:d}\\t{2:.2f}'.format(i, N[i], degrees(delta[i])))"
      ],
      "metadata": {
        "colab": {
          "base_uri": "https://localhost:8080/"
        },
        "id": "hxcNjTxSqbwG",
        "outputId": "685f3af3-9712-4062-a229-a006fa6f4148"
      },
      "execution_count": 4,
      "outputs": [
        {
          "output_type": "stream",
          "name": "stdout",
          "text": [
            "Declination of the sun:\n",
            "\n",
            "i\tday\tdelta [deg]\n",
            "0\t79\t-0.93\n",
            "1\t171\t23.43\n",
            "2\t265\t-0.43\n",
            "3\t355\t-23.44\n"
          ]
        }
      ]
    }
  ]
}