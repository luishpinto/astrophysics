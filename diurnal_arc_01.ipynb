{
  "nbformat": 4,
  "nbformat_minor": 0,
  "metadata": {
    "colab": {
      "name": "diurnal-arc-01.ipynb",
      "provenance": [],
      "authorship_tag": "ABX9TyP4mgkdtvwlz6zIssxpVd9o",
      "include_colab_link": true
    },
    "kernelspec": {
      "name": "python3",
      "display_name": "Python 3"
    },
    "language_info": {
      "name": "python"
    }
  },
  "cells": [
    {
      "cell_type": "markdown",
      "metadata": {
        "id": "view-in-github",
        "colab_type": "text"
      },
      "source": [
        "<a href=\"https://colab.research.google.com/github/luishpinto/astrophysics/blob/main/diurnal_arc_01.ipynb\" target=\"_parent\"><img src=\"https://colab.research.google.com/assets/colab-badge.svg\" alt=\"Open In Colab\"/></a>"
      ]
    },
    {
      "cell_type": "markdown",
      "source": [
        "# Diurnal Arc\n",
        "\n",
        "From the viewpoint of an observer on Earth, the apparent motion of an object on the celestial sphere follows an arc above the horizon, which is called diurnal arc. The time-dependent horizontal position of the object is measured by its hour angle $ h $. An hour angle of 24 hours corresponds to a full circle of 360° to the celestial equator."
      ],
      "metadata": {
        "id": "D1LHILEOcJds"
      }
    },
    {
      "cell_type": "code",
      "execution_count": 6,
      "metadata": {
        "id": "q0wrmA1IVyLV"
      },
      "outputs": [],
      "source": [
        "import numpy as np\n",
        "from astropy.coordinates import SkyCoord, EarthLocation\n",
        "import astropy.units as u"
      ]
    },
    {
      "cell_type": "code",
      "source": [
        "betelgeuse = SkyCoord.from_name('Betelgeuse')\n",
        "print(betelgeuse)"
      ],
      "metadata": {
        "colab": {
          "base_uri": "https://localhost:8080/"
        },
        "id": "eGdNnET_WQ0I",
        "outputId": "232b4fb3-962b-4650-fb33-4baeb076f43e"
      },
      "execution_count": 7,
      "outputs": [
        {
          "output_type": "stream",
          "name": "stdout",
          "text": [
            "<SkyCoord (ICRS): (ra, dec) in deg\n",
            "    (88.79293899, 7.407064)>\n"
          ]
        }
      ]
    },
    {
      "cell_type": "code",
      "source": [
        "delta = betelgeuse.dec\n",
        "print(delta)"
      ],
      "metadata": {
        "colab": {
          "base_uri": "https://localhost:8080/"
        },
        "id": "r2ZeJhU9XRuu",
        "outputId": "dd14ea03-a332-4a86-aad9-cc903b09f5bd"
      },
      "execution_count": 8,
      "outputs": [
        {
          "output_type": "stream",
          "name": "stdout",
          "text": [
            "7d24m25.4304s\n"
          ]
        }
      ]
    },
    {
      "cell_type": "code",
      "source": [
        "obs = EarthLocation(lat = 53 * u.deg + 28 * u.arcmin + 49 * u.arcsec, \\\n",
        "                    lon = 10 * u.deg + 14 * u.arcmin + 23 * u.arcsec)\n",
        "phi = obs.lat"
      ],
      "metadata": {
        "id": "mz2aQzgiXpe-"
      },
      "execution_count": 9,
      "outputs": []
    },
    {
      "cell_type": "code",
      "source": [
        "h = np.arccos(- np.tan(delta.radian) * np.tan(phi.radian))\n",
        "T = (np.degrees(2.0 * h) / 360.0) * u.sday\n",
        "print('T = {:.2f}'.format(T.to(u.h)))"
      ],
      "metadata": {
        "colab": {
          "base_uri": "https://localhost:8080/"
        },
        "id": "DEtg8buGYYNT",
        "outputId": "8ce03b93-1aec-4408-9587-511514f24f3a"
      },
      "execution_count": 10,
      "outputs": [
        {
          "output_type": "stream",
          "name": "stdout",
          "text": [
            "T = 13.31 h\n"
          ]
        }
      ]
    }
  ]
}